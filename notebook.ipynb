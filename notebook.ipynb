{
 "cells": [
  {
   "cell_type": "code",
   "execution_count": 26,
   "metadata": {},
   "outputs": [],
   "source": [
    "import pandas as pd\n",
    "import random "
   ]
  },
  {
   "cell_type": "code",
   "execution_count": 18,
   "metadata": {},
   "outputs": [],
   "source": [
    "nomi_path = r'C:\\Users\\Lucrezia\\Documents\\GitHub\\CPM_exam_organization\\dataset\\names_list.csv'\n",
    "nomi = pd.read_csv(nomi_path, header=None)\n",
    "\n",
    "nome_cognome = []\n",
    "for nome in nomi[0]:\n",
    "    nome_cognome.append(nome.split())\n",
    "\n",
    "lista_lunghezze = [len(nome) for nome in nome_cognome]\n",
    "for i,l in enumerate(lista_lunghezze):\n",
    "    if l != 2:\n",
    "        lista_nome_cognome = nome_cognome[i]\n",
    "        lista_rimpicciolita = [lista_nome_cognome[0], lista_nome_cognome[1]+lista_nome_cognome[2]]\n",
    "        nome_cognome[i] = lista_rimpicciolita"
   ]
  },
  {
   "cell_type": "code",
   "execution_count": 19,
   "metadata": {},
   "outputs": [
    {
     "name": "stdout",
     "output_type": "stream",
     "text": [
      "lista_lunghezze ha 0 valori diversi da 2\n"
     ]
    }
   ],
   "source": [
    "lista_lunghezze = [len(nome) for nome in nome_cognome]\n",
    "count = 0\n",
    "for l in lista_lunghezze:\n",
    "    if l != 2:\n",
    "        count += 1\n",
    "print(f'lista_lunghezze ha {count} valori diversi da 2')"
   ]
  },
  {
   "cell_type": "code",
   "execution_count": 31,
   "metadata": {},
   "outputs": [
    {
     "data": {
      "text/html": [
       "<div>\n",
       "<style scoped>\n",
       "    .dataframe tbody tr th:only-of-type {\n",
       "        vertical-align: middle;\n",
       "    }\n",
       "\n",
       "    .dataframe tbody tr th {\n",
       "        vertical-align: top;\n",
       "    }\n",
       "\n",
       "    .dataframe thead th {\n",
       "        text-align: right;\n",
       "    }\n",
       "</style>\n",
       "<table border=\"1\" class=\"dataframe\">\n",
       "  <thead>\n",
       "    <tr style=\"text-align: right;\">\n",
       "      <th></th>\n",
       "      <th>id</th>\n",
       "      <th>name</th>\n",
       "      <th>surname</th>\n",
       "      <th>course_of_study</th>\n",
       "    </tr>\n",
       "  </thead>\n",
       "  <tbody>\n",
       "    <tr>\n",
       "      <th>0</th>\n",
       "      <td>st_0</td>\n",
       "      <td>Simone</td>\n",
       "      <td>Longo</td>\n",
       "      <td>BAC</td>\n",
       "    </tr>\n",
       "    <tr>\n",
       "      <th>1</th>\n",
       "      <td>st_1</td>\n",
       "      <td>Andrea</td>\n",
       "      <td>D'Angelo</td>\n",
       "      <td>AFAM_biennio_1</td>\n",
       "    </tr>\n",
       "    <tr>\n",
       "      <th>2</th>\n",
       "      <td>st_2</td>\n",
       "      <td>Giuseppe</td>\n",
       "      <td>Fontana</td>\n",
       "      <td>AFAM_triennio_2</td>\n",
       "    </tr>\n",
       "    <tr>\n",
       "      <th>3</th>\n",
       "      <td>st_3</td>\n",
       "      <td>Tommaso</td>\n",
       "      <td>Leone</td>\n",
       "      <td>AFAM_triennio_1</td>\n",
       "    </tr>\n",
       "    <tr>\n",
       "      <th>4</th>\n",
       "      <td>st_4</td>\n",
       "      <td>Sofia</td>\n",
       "      <td>Esposito</td>\n",
       "      <td>Corsi_di_Base_1</td>\n",
       "    </tr>\n",
       "    <tr>\n",
       "      <th>...</th>\n",
       "      <td>...</td>\n",
       "      <td>...</td>\n",
       "      <td>...</td>\n",
       "      <td>...</td>\n",
       "    </tr>\n",
       "    <tr>\n",
       "      <th>695</th>\n",
       "      <td>st_695</td>\n",
       "      <td>Giuseppe</td>\n",
       "      <td>Sanna</td>\n",
       "      <td>BAC</td>\n",
       "    </tr>\n",
       "    <tr>\n",
       "      <th>696</th>\n",
       "      <td>st_696</td>\n",
       "      <td>Simone</td>\n",
       "      <td>Gallo</td>\n",
       "      <td>BAC</td>\n",
       "    </tr>\n",
       "    <tr>\n",
       "      <th>697</th>\n",
       "      <td>st_697</td>\n",
       "      <td>Lorenzo</td>\n",
       "      <td>Moretti</td>\n",
       "      <td>Junior</td>\n",
       "    </tr>\n",
       "    <tr>\n",
       "      <th>698</th>\n",
       "      <td>st_698</td>\n",
       "      <td>Sara</td>\n",
       "      <td>Martini</td>\n",
       "      <td>Diploma_1</td>\n",
       "    </tr>\n",
       "    <tr>\n",
       "      <th>699</th>\n",
       "      <td>st_699</td>\n",
       "      <td>Martina</td>\n",
       "      <td>Costa</td>\n",
       "      <td>Diploma_3</td>\n",
       "    </tr>\n",
       "  </tbody>\n",
       "</table>\n",
       "<p>700 rows × 4 columns</p>\n",
       "</div>"
      ],
      "text/plain": [
       "         id      name   surname  course_of_study\n",
       "0      st_0    Simone     Longo              BAC\n",
       "1      st_1    Andrea  D'Angelo   AFAM_biennio_1\n",
       "2      st_2  Giuseppe   Fontana  AFAM_triennio_2\n",
       "3      st_3   Tommaso     Leone  AFAM_triennio_1\n",
       "4      st_4     Sofia  Esposito  Corsi_di_Base_1\n",
       "..      ...       ...       ...              ...\n",
       "695  st_695  Giuseppe     Sanna              BAC\n",
       "696  st_696    Simone     Gallo              BAC\n",
       "697  st_697   Lorenzo   Moretti           Junior\n",
       "698  st_698      Sara   Martini        Diploma_1\n",
       "699  st_699   Martina     Costa        Diploma_3\n",
       "\n",
       "[700 rows x 4 columns]"
      ]
     },
     "execution_count": 31,
     "metadata": {},
     "output_type": "execute_result"
    }
   ],
   "source": [
    "students = pd.DataFrame()\n",
    "students['id'] = ['st_'+str(i) for i in range(len(nome_cognome))]\n",
    "students['name'] = [l[0] for l in nome_cognome]\n",
    "students['surname'] = [l[1] for l in nome_cognome]\n",
    "courses = ['AFAM_biennio_1', 'AFAM_biennio_2', 'AFAM_triennio_1', 'AFAM_triennio_2', 'AFAM_triennio_3', 'Diploma_1', 'Diploma_2', 'Diploma_3', 'BAC', 'Corsi_di_Base_1', 'Corsi_di_Base_2', 'Corsi_di_Base_3', 'Junior']\n",
    "random.seed(42)\n",
    "students['course_of_study'] = random.choices(courses, k=700)\n",
    "students"
   ]
  }
 ],
 "metadata": {
  "kernelspec": {
   "display_name": "base",
   "language": "python",
   "name": "python3"
  },
  "language_info": {
   "codemirror_mode": {
    "name": "ipython",
    "version": 3
   },
   "file_extension": ".py",
   "mimetype": "text/x-python",
   "name": "python",
   "nbconvert_exporter": "python",
   "pygments_lexer": "ipython3",
   "version": "3.11.5"
  }
 },
 "nbformat": 4,
 "nbformat_minor": 2
}
